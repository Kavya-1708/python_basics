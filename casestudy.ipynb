{
  "nbformat": 4,
  "nbformat_minor": 0,
  "metadata": {
    "colab": {
      "provenance": [],
      "authorship_tag": "ABX9TyOErmCRnUpMAARsyv73EbfU",
      "include_colab_link": true
    },
    "kernelspec": {
      "name": "python3",
      "display_name": "Python 3"
    },
    "language_info": {
      "name": "python"
    }
  },
  "cells": [
    {
      "cell_type": "markdown",
      "metadata": {
        "id": "view-in-github",
        "colab_type": "text"
      },
      "source": [
        "<a href=\"https://colab.research.google.com/github/Kavya-1708/python_basics/blob/main/casestudy.ipynb\" target=\"_parent\"><img src=\"https://colab.research.google.com/assets/colab-badge.svg\" alt=\"Open In Colab\"/></a>"
      ]
    },
    {
      "cell_type": "markdown",
      "source": [
        "Q1. Create a function that dimensions as tuples e.g. (3,3) and a numeric value and returns a NumPy array of the given dimension filled with the given value. eg : solve((3,3),5) will return\n",
        "[\n",
        "  [ 5, 5, 5 ],\n",
        "  [ 5, 5, 5 ],\n",
        "  [ 5, 5, 5]\n",
        "]\n",
        "    "
      ],
      "metadata": {
        "id": "lp7Vkjg8VFyz"
      }
    },
    {
      "cell_type": "code",
      "execution_count": 1,
      "metadata": {
        "colab": {
          "base_uri": "https://localhost:8080/"
        },
        "id": "90_ctqbmU5jF",
        "outputId": "915d8037-3a14-4fad-d49e-f998e941d192"
      },
      "outputs": [
        {
          "output_type": "stream",
          "name": "stdout",
          "text": [
            "[[5 5 5]\n",
            " [5 5 5]\n",
            " [5 5 5]]\n"
          ]
        }
      ],
      "source": [
        "import numpy as np\n",
        "\n",
        "def solve(dimensions, value):\n",
        "    \"\"\"\n",
        "    Create a NumPy array with given dimensions, filled with the specified value.\n",
        "\n",
        "    Parameters:\n",
        "    dimensions (tuple): Shape of the array (e.g., (3,3))\n",
        "    value (numeric): Value to fill the array with\n",
        "\n",
        "    Returns:\n",
        "    numpy.ndarray: Array filled with the given value\n",
        "    \"\"\"\n",
        "    return np.full(dimensions, value)\n",
        "\n",
        "# Example usage:\n",
        "result = solve((3, 3), 5)\n",
        "print(result)"
      ]
    },
    {
      "cell_type": "markdown",
      "source": [
        "Q2. Create a method that takes n NumPy arrays of the same dimensions, sums them and returns the answer."
      ],
      "metadata": {
        "id": "7ESycSCYWAr2"
      }
    },
    {
      "cell_type": "code",
      "source": [
        "import numpy as np\n",
        "\n",
        "def sum_arrays(*arrays):\n",
        "    \"\"\"\n",
        "    Sum multiple NumPy arrays element-wise.\n",
        "\n",
        "    Parameters:\n",
        "    *arrays: Variable-length NumPy arrays (all must have the same shape)\n",
        "\n",
        "    Returns:\n",
        "    numpy.ndarray: Summed array\n",
        "    \"\"\"\n",
        "    return np.sum(arrays, axis=0)  # Perform element-wise sum\n",
        "\n",
        "# Example usage:\n",
        "array1 = np.array([[1, 2, 3], [4, 5, 6]])\n",
        "array2 = np.array([[7, 8, 9], [10, 11, 12]])\n",
        "array3 = np.array([[13, 14, 15], [16, 17, 18]])\n",
        "\n",
        "result = sum_arrays(array1, array2, array3)\n",
        "print(\"Summed Array:\\n\", result)"
      ],
      "metadata": {
        "colab": {
          "base_uri": "https://localhost:8080/"
        },
        "id": "33xxRCrlWTPa",
        "outputId": "f39ac8e4-bfe3-4147-ee67-650593753b8f"
      },
      "execution_count": 2,
      "outputs": [
        {
          "output_type": "stream",
          "name": "stdout",
          "text": [
            "Summed Array:\n",
            " [[21 24 27]\n",
            " [30 33 36]]\n"
          ]
        }
      ]
    },
    {
      "cell_type": "markdown",
      "source": [
        "Q3.  Given a 2 D Array of N X M Dimension, write a function that accepts this array as well as two numbers N and M. The method should return the top-left N X M sub matrix, e.g: [ [1, 2, 3], [4, 5, 6], [7, 8, 9], ] top_left_sub_matrix (matrix, 2, 2) -> should return: [ [1, 2] [4, 5] ]\n",
        "\n"
      ],
      "metadata": {
        "id": "YcsIgbRDWZ-i"
      }
    },
    {
      "cell_type": "code",
      "source": [
        "def top_left_sub_matrix(matrix, N, M):\n",
        "    return matrix[:N, :M]\n",
        "\n",
        "# Example usage:\n",
        "matrix = np.array([[1, 2, 3], [4, 5, 6], [7, 8, 9]])\n",
        "print(top_left_sub_matrix(matrix, 2, 2))"
      ],
      "metadata": {
        "colab": {
          "base_uri": "https://localhost:8080/"
        },
        "id": "1uHfIHCDWZnN",
        "outputId": "011f0f04-2a19-4bf0-ab96-3557ae2694dd"
      },
      "execution_count": 3,
      "outputs": [
        {
          "output_type": "stream",
          "name": "stdout",
          "text": [
            "[[1 2]\n",
            " [4 5]]\n"
          ]
        }
      ]
    },
    {
      "cell_type": "markdown",
      "source": [
        "Q4. Given a 2 D Array of N X M Dimension, write a function that accepts this array as well as two numbers N and M. The method should return the bottom-right N X M sub matrix, e.g: [ [1, 2, 3], [4, 5, 6], [7, 8, 9], ] sub_matrix(matrix, 1, 1) -> should return : (Keep in mind these arrays are zero indexed) [ [5, 6] [8, 9] ]"
      ],
      "metadata": {
        "id": "EzL-vLiRXJn3"
      }
    },
    {
      "cell_type": "code",
      "source": [
        "def bottom_right_sub_matrix(matrix, N, M):\n",
        "    return matrix[-N:, -M:]\n",
        "\n",
        "# Example usage:\n",
        "print(bottom_right_sub_matrix(matrix, 2, 2))"
      ],
      "metadata": {
        "colab": {
          "base_uri": "https://localhost:8080/"
        },
        "id": "Zxt3wK0UXSfl",
        "outputId": "0cfefbf1-3a92-47e8-89c8-f236217bf08f"
      },
      "execution_count": 4,
      "outputs": [
        {
          "output_type": "stream",
          "name": "stdout",
          "text": [
            "[[5 6]\n",
            " [8 9]]\n"
          ]
        }
      ]
    },
    {
      "cell_type": "markdown",
      "source": [
        "Q5. Given a 1 D NumPy Array. Write a function that accepts this array as parameters. The method should return a dictionary with 'mean' and 'std_dev' as key and array's mean and array's standard deviation as values: [1, 1, 1] solution(arr) -> should return : {'mean': 1.0, 'std_dev': 0.0}\n",
        "\n"
      ],
      "metadata": {
        "id": "5qUpuQuuXYUw"
      }
    },
    {
      "cell_type": "code",
      "source": [
        "def solution(arr):\n",
        "    return {\"mean\": np.mean(arr), \"std_dev\": np.std(arr)}\n",
        "\n",
        "# Example usage:\n",
        "print(solution(np.array([1, 1, 1])))"
      ],
      "metadata": {
        "colab": {
          "base_uri": "https://localhost:8080/"
        },
        "id": "ilyuqDxWXoAd",
        "outputId": "001e81f3-f5da-4243-c54a-47b08805787c"
      },
      "execution_count": 5,
      "outputs": [
        {
          "output_type": "stream",
          "name": "stdout",
          "text": [
            "{'mean': np.float64(1.0), 'std_dev': np.float64(0.0)}\n"
          ]
        }
      ]
    }
  ]
}