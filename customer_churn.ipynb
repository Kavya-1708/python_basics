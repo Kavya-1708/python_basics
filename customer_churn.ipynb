{
  "nbformat": 4,
  "nbformat_minor": 0,
  "metadata": {
    "colab": {
      "provenance": [],
      "authorship_tag": "ABX9TyPMc+oo4WvZt2rA85HKW0xI",
      "include_colab_link": true
    },
    "kernelspec": {
      "name": "python3",
      "display_name": "Python 3"
    },
    "language_info": {
      "name": "python"
    }
  },
  "cells": [
    {
      "cell_type": "markdown",
      "metadata": {
        "id": "view-in-github",
        "colab_type": "text"
      },
      "source": [
        "<a href=\"https://colab.research.google.com/github/Kavya-1708/python_basics/blob/main/customer_churn.ipynb\" target=\"_parent\"><img src=\"https://colab.research.google.com/assets/colab-badge.svg\" alt=\"Open In Colab\"/></a>"
      ]
    },
    {
      "cell_type": "markdown",
      "source": [
        "#Customer Churn"
      ],
      "metadata": {
        "id": "4g5c9_Y1Y-L3"
      }
    },
    {
      "cell_type": "markdown",
      "source": [
        "Q1. From the churn DataFrame, select only 3rd, 7th, 9th, and 20th columns and all the rows and store that in a new DataFrame named newCols."
      ],
      "metadata": {
        "id": "KRtvR1McZHAL"
      }
    },
    {
      "cell_type": "code",
      "source": [
        "import pandas as pd\n",
        "\n",
        "# Read the CSV file into a DataFrame (replace 'churn.csv' with your actual file name)\n",
        "churn = pd.read_csv(\"/content/customer_churn-1.csv\")\n",
        "\n",
        "# Selecting specific columns (3rd, 7th, 9th, and 20th columns)\n",
        "newCols = churn.iloc[:, [2, 6, 8, 19]]\n",
        "\n",
        "# Display the new DataFrame\n",
        "print(newCols.head())  # Show first few rows"
      ],
      "metadata": {
        "colab": {
          "base_uri": "https://localhost:8080/"
        },
        "id": "7uZlRYSNaBrm",
        "outputId": "5343fd1f-2d08-4a08-bc77-d6aacba970f7"
      },
      "execution_count": 3,
      "outputs": [
        {
          "output_type": "stream",
          "name": "stdout",
          "text": [
            "   SeniorCitizen PhoneService InternetService TotalCharges\n",
            "0              0           No             DSL        29.85\n",
            "1              0          Yes             DSL       1889.5\n",
            "2              0          Yes             DSL       108.15\n",
            "3              0           No             DSL      1840.75\n",
            "4              0          Yes     Fiber optic       151.65\n"
          ]
        }
      ]
    },
    {
      "cell_type": "markdown",
      "source": [
        "Q2. Find the original DataFrame, select only the rows from the 200th index till the 1000th index(inclusive) column."
      ],
      "metadata": {
        "id": "Vb62M8ZcaRkL"
      }
    },
    {
      "cell_type": "code",
      "source": [
        "import pandas as pd\n",
        "\n",
        "# Assuming the DataFrame is named 'df'\n",
        "selected_rows = df.iloc[200:1001]  # Select rows from index 200 to 1000\n",
        "\n",
        "# Display the selected portion\n",
        "print(selected_rows.head())  # Shows first few rows from the selection"
      ],
      "metadata": {
        "colab": {
          "base_uri": "https://localhost:8080/"
        },
        "id": "Kmqd21hFakBe",
        "outputId": "9983761a-ae4f-4400-9c8c-44ee2da64bba"
      },
      "execution_count": 4,
      "outputs": [
        {
          "output_type": "stream",
          "name": "stdout",
          "text": [
            "     customerID  gender  SeniorCitizen Partner Dependents  tenure  \\\n",
            "200  9323-HGFWY  Female              0     Yes         No      27   \n",
            "201  8544-GOQSH  Female              0      No         No      14   \n",
            "202  3363-DTIVD    Male              0     Yes        Yes      71   \n",
            "203  7018-WBJNK    Male              0      No        Yes      13   \n",
            "204  9142-KZXOP    Male              0      No         No      44   \n",
            "\n",
            "    PhoneService MultipleLines InternetService OnlineSecurity  ...  \\\n",
            "200          Yes            No     Fiber optic            Yes  ...   \n",
            "201          Yes            No     Fiber optic             No  ...   \n",
            "202          Yes           Yes     Fiber optic            Yes  ...   \n",
            "203          Yes            No     Fiber optic             No  ...   \n",
            "204          Yes            No     Fiber optic             No  ...   \n",
            "\n",
            "    DeviceProtection TechSupport StreamingTV StreamingMovies        Contract  \\\n",
            "200               No         Yes         Yes             Yes        One year   \n",
            "201               No         Yes          No              No  Month-to-month   \n",
            "202              Yes          No         Yes             Yes        Two year   \n",
            "203               No          No         Yes              No  Month-to-month   \n",
            "204               No          No          No              No  Month-to-month   \n",
            "\n",
            "    PaperlessBilling            PaymentMethod MonthlyCharges  TotalCharges  \\\n",
            "200              Yes  Credit card (automatic)         101.90       2681.15   \n",
            "201              Yes  Credit card (automatic)          80.05        1112.3   \n",
            "202               No         Electronic check         105.55        7405.5   \n",
            "203              Yes  Credit card (automatic)          78.30       1033.95   \n",
            "204               No  Credit card (automatic)          68.85       2958.95   \n",
            "\n",
            "    Churn  \n",
            "200    No  \n",
            "201    No  \n",
            "202    No  \n",
            "203    No  \n",
            "204    No  \n",
            "\n",
            "[5 rows x 21 columns]\n"
          ]
        }
      ]
    },
    {
      "cell_type": "markdown",
      "source": [
        "Q3. Now select the rows from 20th index till 200th index (exclusive) and columns from 2nd index till 15th index value."
      ],
      "metadata": {
        "id": "x8kYOKddatAx"
      }
    },
    {
      "cell_type": "code",
      "source": [
        "import pandas as pd\n",
        "\n",
        "# Assuming 'df' is the original DataFrame\n",
        "selected_data = df.iloc[20:200, 2:15]  # Selecting rows (20th to 199th) & columns (2nd to 14th)\n",
        "\n",
        "# Display the selected portion\n",
        "print(selected_data.head())  # Show first few rows"
      ],
      "metadata": {
        "colab": {
          "base_uri": "https://localhost:8080/"
        },
        "id": "xc9KI4rbarqO",
        "outputId": "fd8ab7ff-6e1d-4003-99ac-3531bef9fa20"
      },
      "execution_count": 5,
      "outputs": [
        {
          "output_type": "stream",
          "name": "stdout",
          "text": [
            "    SeniorCitizen Partner Dependents  tenure PhoneService     MultipleLines  \\\n",
            "20              1      No         No       1           No  No phone service   \n",
            "21              0     Yes         No      12          Yes                No   \n",
            "22              0      No         No       1          Yes                No   \n",
            "23              0     Yes         No      58          Yes               Yes   \n",
            "24              0     Yes        Yes      49          Yes                No   \n",
            "\n",
            "   InternetService       OnlineSecurity         OnlineBackup  \\\n",
            "20             DSL                   No                   No   \n",
            "21              No  No internet service  No internet service   \n",
            "22              No  No internet service  No internet service   \n",
            "23             DSL                   No                  Yes   \n",
            "24             DSL                  Yes                  Yes   \n",
            "\n",
            "       DeviceProtection          TechSupport          StreamingTV  \\\n",
            "20                  Yes                   No                   No   \n",
            "21  No internet service  No internet service  No internet service   \n",
            "22  No internet service  No internet service  No internet service   \n",
            "23                   No                  Yes                   No   \n",
            "24                   No                  Yes                   No   \n",
            "\n",
            "        StreamingMovies  \n",
            "20                  Yes  \n",
            "21  No internet service  \n",
            "22  No internet service  \n",
            "23                   No  \n",
            "24                   No  \n"
          ]
        }
      ]
    },
    {
      "cell_type": "markdown",
      "source": [
        "Q4. Display the top 100 records from the original DataFrame."
      ],
      "metadata": {
        "id": "4-BSP2DgbKzh"
      }
    },
    {
      "cell_type": "code",
      "source": [
        "import pandas as pd\n",
        "\n",
        "# Assuming 'df' is your original DataFrame\n",
        "top_100_records = df.head(100)  # Select first 100 rows\n",
        "\n",
        "# Display the result\n",
        "print(top_100_records)"
      ],
      "metadata": {
        "colab": {
          "base_uri": "https://localhost:8080/"
        },
        "id": "1fatXZZvbKP7",
        "outputId": "c4a81039-58c2-4300-e905-16ef0fb9f563"
      },
      "execution_count": 6,
      "outputs": [
        {
          "output_type": "stream",
          "name": "stdout",
          "text": [
            "    customerID  gender  SeniorCitizen Partner Dependents  tenure PhoneService  \\\n",
            "0   7590-VHVEG  Female              0     Yes         No       1           No   \n",
            "1   5575-GNVDE    Male              0      No         No      34          Yes   \n",
            "2   3668-QPYBK    Male              0      No         No       2          Yes   \n",
            "3   7795-CFOCW    Male              0      No         No      45           No   \n",
            "4   9237-HQITU  Female              0      No         No       2          Yes   \n",
            "..         ...     ...            ...     ...        ...     ...          ...   \n",
            "95  8637-XJIVR  Female              0      No         No      12          Yes   \n",
            "96  9803-FTJCG    Male              0     Yes        Yes      71          Yes   \n",
            "97  0278-YXOOG    Male              0      No         No       5          Yes   \n",
            "98  3212-KXOCR    Male              0      No         No      52          Yes   \n",
            "99  4598-XLKNJ  Female              1     Yes         No      25          Yes   \n",
            "\n",
            "       MultipleLines InternetService       OnlineSecurity  ...  \\\n",
            "0   No phone service             DSL                   No  ...   \n",
            "1                 No             DSL                  Yes  ...   \n",
            "2                 No             DSL                  Yes  ...   \n",
            "3   No phone service             DSL                  Yes  ...   \n",
            "4                 No     Fiber optic                   No  ...   \n",
            "..               ...             ...                  ...  ...   \n",
            "95               Yes     Fiber optic                  Yes  ...   \n",
            "96               Yes             DSL                  Yes  ...   \n",
            "97                No              No  No internet service  ...   \n",
            "98                No              No  No internet service  ...   \n",
            "99                No     Fiber optic                   No  ...   \n",
            "\n",
            "       DeviceProtection          TechSupport          StreamingTV  \\\n",
            "0                    No                   No                   No   \n",
            "1                   Yes                   No                   No   \n",
            "2                    No                   No                   No   \n",
            "3                   Yes                  Yes                   No   \n",
            "4                    No                   No                   No   \n",
            "..                  ...                  ...                  ...   \n",
            "95                   No                   No                   No   \n",
            "96                   No                  Yes                   No   \n",
            "97  No internet service  No internet service  No internet service   \n",
            "98  No internet service  No internet service  No internet service   \n",
            "99                  Yes                   No                  Yes   \n",
            "\n",
            "        StreamingMovies        Contract PaperlessBilling  \\\n",
            "0                    No  Month-to-month              Yes   \n",
            "1                    No        One year               No   \n",
            "2                    No  Month-to-month              Yes   \n",
            "3                    No        One year               No   \n",
            "4                    No  Month-to-month              Yes   \n",
            "..                  ...             ...              ...   \n",
            "95                   No  Month-to-month              Yes   \n",
            "96                   No        One year              Yes   \n",
            "97  No internet service  Month-to-month               No   \n",
            "98  No internet service        Two year               No   \n",
            "99                  Yes  Month-to-month              Yes   \n",
            "\n",
            "                PaymentMethod MonthlyCharges  TotalCharges Churn  \n",
            "0            Electronic check          29.85         29.85    No  \n",
            "1                Mailed check          56.95        1889.5    No  \n",
            "2                Mailed check          53.85        108.15   Yes  \n",
            "3   Bank transfer (automatic)          42.30       1840.75    No  \n",
            "4            Electronic check          70.70        151.65   Yes  \n",
            "..                        ...            ...           ...   ...  \n",
            "95           Electronic check          78.95        927.35   Yes  \n",
            "96    Credit card (automatic)          66.85        4748.7    No  \n",
            "97               Mailed check          21.05        113.85   Yes  \n",
            "98  Bank transfer (automatic)          21.00        1107.2    No  \n",
            "99           Electronic check          98.50        2514.5   Yes  \n",
            "\n",
            "[100 rows x 21 columns]\n"
          ]
        }
      ]
    },
    {
      "cell_type": "markdown",
      "source": [
        "Q5. Display the last 10 records from the original DataFrame"
      ],
      "metadata": {
        "id": "RtQ_5wDSbebN"
      }
    },
    {
      "cell_type": "code",
      "source": [
        "import pandas as pd\n",
        "\n",
        "# Assuming 'df' is your original DataFrame\n",
        "last_10_records = df.tail(10)  # Select first 100 rows\n",
        "\n",
        "# Display the result\n",
        "print(last_10_records)"
      ],
      "metadata": {
        "colab": {
          "base_uri": "https://localhost:8080/"
        },
        "id": "qwrjCduAbd72",
        "outputId": "da8f0156-05ea-4f41-ab4d-a3bb18381264"
      },
      "execution_count": 7,
      "outputs": [
        {
          "output_type": "stream",
          "name": "stdout",
          "text": [
            "      customerID  gender  SeniorCitizen Partner Dependents  tenure  \\\n",
            "7033  9767-FFLEM    Male              0      No         No      38   \n",
            "7034  0639-TSIQW  Female              0      No         No      67   \n",
            "7035  8456-QDAVC    Male              0      No         No      19   \n",
            "7036  7750-EYXWZ  Female              0      No         No      12   \n",
            "7037  2569-WGERO  Female              0      No         No      72   \n",
            "7038  6840-RESVB    Male              0     Yes        Yes      24   \n",
            "7039  2234-XADUH  Female              0     Yes        Yes      72   \n",
            "7040  4801-JZAZL  Female              0     Yes        Yes      11   \n",
            "7041  8361-LTMKD    Male              1     Yes         No       4   \n",
            "7042  3186-AJIEK    Male              0      No         No      66   \n",
            "\n",
            "     PhoneService     MultipleLines InternetService       OnlineSecurity  ...  \\\n",
            "7033          Yes                No     Fiber optic                   No  ...   \n",
            "7034          Yes               Yes     Fiber optic                  Yes  ...   \n",
            "7035          Yes                No     Fiber optic                   No  ...   \n",
            "7036           No  No phone service             DSL                   No  ...   \n",
            "7037          Yes                No              No  No internet service  ...   \n",
            "7038          Yes               Yes             DSL                  Yes  ...   \n",
            "7039          Yes               Yes     Fiber optic                   No  ...   \n",
            "7040           No  No phone service             DSL                  Yes  ...   \n",
            "7041          Yes               Yes     Fiber optic                   No  ...   \n",
            "7042          Yes                No     Fiber optic                  Yes  ...   \n",
            "\n",
            "         DeviceProtection          TechSupport          StreamingTV  \\\n",
            "7033                   No                   No                   No   \n",
            "7034                  Yes                   No                  Yes   \n",
            "7035                   No                   No                  Yes   \n",
            "7036                  Yes                  Yes                  Yes   \n",
            "7037  No internet service  No internet service  No internet service   \n",
            "7038                  Yes                  Yes                  Yes   \n",
            "7039                  Yes                   No                  Yes   \n",
            "7040                   No                   No                   No   \n",
            "7041                   No                   No                   No   \n",
            "7042                  Yes                  Yes                  Yes   \n",
            "\n",
            "          StreamingMovies        Contract PaperlessBilling  \\\n",
            "7033                   No  Month-to-month              Yes   \n",
            "7034                   No  Month-to-month              Yes   \n",
            "7035                   No  Month-to-month              Yes   \n",
            "7036                  Yes        One year               No   \n",
            "7037  No internet service        Two year              Yes   \n",
            "7038                  Yes        One year              Yes   \n",
            "7039                  Yes        One year              Yes   \n",
            "7040                   No  Month-to-month              Yes   \n",
            "7041                   No  Month-to-month              Yes   \n",
            "7042                  Yes        Two year              Yes   \n",
            "\n",
            "                  PaymentMethod MonthlyCharges  TotalCharges Churn  \n",
            "7033    Credit card (automatic)          69.50       2625.25    No  \n",
            "7034    Credit card (automatic)         102.95       6886.25   Yes  \n",
            "7035  Bank transfer (automatic)          78.70        1495.1    No  \n",
            "7036           Electronic check          60.65         743.3    No  \n",
            "7037  Bank transfer (automatic)          21.15        1419.4    No  \n",
            "7038               Mailed check          84.80        1990.5    No  \n",
            "7039    Credit card (automatic)         103.20        7362.9    No  \n",
            "7040           Electronic check          29.60        346.45    No  \n",
            "7041               Mailed check          74.40         306.6   Yes  \n",
            "7042  Bank transfer (automatic)         105.65        6844.5    No  \n",
            "\n",
            "[10 rows x 21 columns]\n"
          ]
        }
      ]
    },
    {
      "cell_type": "markdown",
      "source": [
        "Q6. Try to sort the data by the Tenure column according to the descending order"
      ],
      "metadata": {
        "id": "NE9f_TQQby8z"
      }
    },
    {
      "cell_type": "code",
      "source": [
        "import pandas as pd\n",
        "\n",
        "# Assuming 'df' is your original DataFrame\n",
        "# Check if 'Tenure' column exists, and if not, try 'tenure'\n",
        "if 'Tenure' in df.columns:\n",
        "    sorted_df = df.sort_values(by=\"Tenure\", ascending=False)\n",
        "else:\n",
        "    # Assuming the column name is 'tenure' instead of 'Tenure'\n",
        "    sorted_df = df.sort_values(by=\"tenure\", ascending=False)\n",
        "\n",
        "# Display the sorted DataFrame\n",
        "print(sorted_df.head())  # Show first few rows"
      ],
      "metadata": {
        "colab": {
          "base_uri": "https://localhost:8080/"
        },
        "id": "MUYtBX8UcERd",
        "outputId": "9fe1a87d-bc62-44f7-b265-9a1ae67380b7"
      },
      "execution_count": 9,
      "outputs": [
        {
          "output_type": "stream",
          "name": "stdout",
          "text": [
            "      customerID  gender  SeniorCitizen Partner Dependents  tenure  \\\n",
            "3177  1814-WFGVS    Male              0     Yes        Yes      72   \n",
            "3131  8336-TAVKX  Female              1     Yes         No      72   \n",
            "3107  5038-ETMLM  Female              0     Yes         No      72   \n",
            "35    6234-RAAPL  Female              0     Yes        Yes      72   \n",
            "3111  8809-RIHDD    Male              0     Yes        Yes      72   \n",
            "\n",
            "     PhoneService     MultipleLines InternetService OnlineSecurity  ...  \\\n",
            "3177           No  No phone service             DSL            Yes  ...   \n",
            "3131          Yes               Yes             DSL            Yes  ...   \n",
            "3107          Yes               Yes     Fiber optic            Yes  ...   \n",
            "35            Yes               Yes     Fiber optic            Yes  ...   \n",
            "3111          Yes               Yes     Fiber optic             No  ...   \n",
            "\n",
            "     DeviceProtection TechSupport StreamingTV StreamingMovies  Contract  \\\n",
            "3177              Yes         Yes         Yes              No  Two year   \n",
            "3131              Yes         Yes          No             Yes  Two year   \n",
            "3107              Yes         Yes         Yes             Yes  Two year   \n",
            "35                 No         Yes         Yes              No  Two year   \n",
            "3111              Yes          No         Yes             Yes  Two year   \n",
            "\n",
            "     PaperlessBilling              PaymentMethod MonthlyCharges  TotalCharges  \\\n",
            "3177               No               Mailed check          48.90          3527   \n",
            "3131               No  Bank transfer (automatic)          78.45       5682.25   \n",
            "3107              Yes  Bank transfer (automatic)         113.65       8182.75   \n",
            "35                 No  Bank transfer (automatic)          99.90        7251.7   \n",
            "3111              Yes           Electronic check         103.40       7372.65   \n",
            "\n",
            "     Churn  \n",
            "3177    No  \n",
            "3131    No  \n",
            "3107    No  \n",
            "35      No  \n",
            "3111   Yes  \n",
            "\n",
            "[5 rows x 21 columns]\n"
          ]
        }
      ]
    },
    {
      "cell_type": "markdown",
      "source": [
        "Q7. Fetch all the records that are satisfying the following condition:\n",
        "a. Tenure>50 and the gender as ‘Female’\n",
        "b. Gender as ‘Male’ and SeniorCitizen as 0\n",
        "c. TechSupport as ‘Yes’ and Churn as ‘No’\n",
        "d. Contract type as ‘Month-to-month’ and Churn as ‘Yes’"
      ],
      "metadata": {
        "id": "DlUdX99kcPU-"
      }
    },
    {
      "cell_type": "code",
      "source": [
        "import pandas as pd\n",
        "\n",
        "# Assuming 'df' is your original DataFrame\n",
        "\n",
        "# Apply conditions, using 'tenure' if 'Tenure' is not found\n",
        "tenure_col = \"Tenure\" if \"Tenure\" in df.columns else \"tenure\"\n",
        "# This line dynamically selects the correct column name\n",
        "\n",
        "filtered_data = df[\n",
        "    ((df[tenure_col] > 50) & (df[\"gender\"] == \"Female\")) |\n",
        "    ((df[\"gender\"] == \"Male\") & (df[\"SeniorCitizen\"] == 0)) |\n",
        "    ((df[\"TechSupport\"] == \"Yes\") & (df[\"Churn\"] == \"No\")) |\n",
        "    ((df[\"Contract\"] == \"Month-to-month\") & (df[\"Churn\"] == \"Yes\"))\n",
        "]\n",
        "\n",
        "# Display the filtered records\n",
        "print(filtered_data.head())  # Show first few rows"
      ],
      "metadata": {
        "colab": {
          "base_uri": "https://localhost:8080/"
        },
        "id": "e5tbc_dmcW9u",
        "outputId": "713557d4-d220-454d-a809-58fb9b52a7d2"
      },
      "execution_count": 13,
      "outputs": [
        {
          "output_type": "stream",
          "name": "stdout",
          "text": [
            "   customerID  gender  SeniorCitizen Partner Dependents  tenure PhoneService  \\\n",
            "1  5575-GNVDE    Male              0      No         No      34          Yes   \n",
            "2  3668-QPYBK    Male              0      No         No       2          Yes   \n",
            "3  7795-CFOCW    Male              0      No         No      45           No   \n",
            "4  9237-HQITU  Female              0      No         No       2          Yes   \n",
            "5  9305-CDSKC  Female              0      No         No       8          Yes   \n",
            "\n",
            "      MultipleLines InternetService OnlineSecurity  ... DeviceProtection  \\\n",
            "1                No             DSL            Yes  ...              Yes   \n",
            "2                No             DSL            Yes  ...               No   \n",
            "3  No phone service             DSL            Yes  ...              Yes   \n",
            "4                No     Fiber optic             No  ...               No   \n",
            "5               Yes     Fiber optic             No  ...              Yes   \n",
            "\n",
            "  TechSupport StreamingTV StreamingMovies        Contract PaperlessBilling  \\\n",
            "1          No          No              No        One year               No   \n",
            "2          No          No              No  Month-to-month              Yes   \n",
            "3         Yes          No              No        One year               No   \n",
            "4          No          No              No  Month-to-month              Yes   \n",
            "5          No         Yes             Yes  Month-to-month              Yes   \n",
            "\n",
            "               PaymentMethod MonthlyCharges  TotalCharges Churn  \n",
            "1               Mailed check          56.95        1889.5    No  \n",
            "2               Mailed check          53.85        108.15   Yes  \n",
            "3  Bank transfer (automatic)          42.30       1840.75    No  \n",
            "4           Electronic check          70.70        151.65   Yes  \n",
            "5           Electronic check          99.65         820.5   Yes  \n",
            "\n",
            "[5 rows x 21 columns]\n"
          ]
        }
      ]
    },
    {
      "cell_type": "markdown",
      "source": [
        "Q8. Use a for loop to calculate the number of customers that are getting the\n",
        "tech support and are male senior citizens.\n"
      ],
      "metadata": {
        "id": "lHygA1BBcpYt"
      }
    },
    {
      "cell_type": "code",
      "source": [
        "import pandas as pd\n",
        "\n",
        "# Sample DataFrame (Replace with actual churn dataset)\n",
        "data = {\n",
        "    \"gender\": [\"Male\", \"Female\", \"Male\", \"Male\", \"Female\"],\n",
        "    \"SeniorCitizen\": [1, 0, 1, 0, 1],\n",
        "    \"TechSupport\": [\"Yes\", \"No\", \"Yes\", \"No\", \"Yes\"]\n",
        "}\n",
        "\n",
        "df = pd.DataFrame(data)\n",
        "\n",
        "# Initialize counter\n",
        "count = 0\n",
        "\n",
        "# Loop through DataFrame rows\n",
        "for index, row in df.iterrows():\n",
        "    if row[\"gender\"] == \"Male\" and row[\"SeniorCitizen\"] == 1 and row[\"TechSupport\"] == \"Yes\":\n",
        "        count += 1\n",
        "\n",
        "# Display the result\n",
        "print(\"Number of male senior citizens getting tech support:\", count)"
      ],
      "metadata": {
        "colab": {
          "base_uri": "https://localhost:8080/"
        },
        "id": "Dq0myz_8cxVI",
        "outputId": "64c14e34-e7eb-45f7-af2d-05cf6427386c"
      },
      "execution_count": 14,
      "outputs": [
        {
          "output_type": "stream",
          "name": "stdout",
          "text": [
            "Number of male senior citizens getting tech support: 2\n"
          ]
        }
      ]
    }
  ]
}