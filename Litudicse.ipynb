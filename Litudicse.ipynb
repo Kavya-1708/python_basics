{
  "nbformat": 4,
  "nbformat_minor": 0,
  "metadata": {
    "colab": {
      "provenance": [],
      "authorship_tag": "ABX9TyOWNKICYzNtaLmvo1Wox46/",
      "include_colab_link": true
    },
    "kernelspec": {
      "name": "python3",
      "display_name": "Python 3"
    },
    "language_info": {
      "name": "python"
    }
  },
  "cells": [
    {
      "cell_type": "markdown",
      "metadata": {
        "id": "view-in-github",
        "colab_type": "text"
      },
      "source": [
        "<a href=\"https://colab.research.google.com/github/Kavya-1708/python_basics/blob/main/Litudicse.ipynb\" target=\"_parent\"><img src=\"https://colab.research.google.com/assets/colab-badge.svg\" alt=\"Open In Colab\"/></a>"
      ]
    },
    {
      "cell_type": "markdown",
      "source": [
        "#Lists"
      ],
      "metadata": {
        "id": "UgE4kB8RJOU5"
      }
    },
    {
      "cell_type": "markdown",
      "source": [
        "Q1. Create a list named ‘myList’ that has the following elements: 10, 20, 30, ‘apple’, True, 8.10:\n"
      ],
      "metadata": {
        "id": "7KLJZG9KIf0j"
      }
    },
    {
      "cell_type": "code",
      "execution_count": 2,
      "metadata": {
        "colab": {
          "base_uri": "https://localhost:8080/"
        },
        "id": "6diyrrjmIVdj",
        "outputId": "23375ca7-a31b-4b60-a926-4fb960a4e268"
      },
      "outputs": [
        {
          "output_type": "stream",
          "name": "stdout",
          "text": [
            "[10, 20, 30, 'apple', True, 8.1]\n"
          ]
        }
      ],
      "source": [
        "#List creation\n",
        "myList = [10, 20, 30, 'apple', True, 8.10]\n",
        "print(myList)"
      ]
    },
    {
      "cell_type": "markdown",
      "source": [
        "a)  Now in the ‘myList’, append these values: 30, 40"
      ],
      "metadata": {
        "id": "RdIOOl1BIwxZ"
      }
    },
    {
      "cell_type": "code",
      "source": [
        "#Append in the list\n",
        "myList.append(30)\n",
        "myList.append(40)\n",
        "print(myList)"
      ],
      "metadata": {
        "colab": {
          "base_uri": "https://localhost:8080/"
        },
        "id": "0_YHeDt6I5mv",
        "outputId": "db4083ee-2444-4941-bd08-fc713a118fba"
      },
      "execution_count": 3,
      "outputs": [
        {
          "output_type": "stream",
          "name": "stdout",
          "text": [
            "[10, 20, 30, 'apple', True, 8.1, 30, 40]\n"
          ]
        }
      ]
    },
    {
      "cell_type": "markdown",
      "source": [
        "b) After that, reverse the elements of the ‘myList’ and store that in\n",
        "‘reversedList’\n"
      ],
      "metadata": {
        "id": "7dwVpahMJAaL"
      }
    },
    {
      "cell_type": "code",
      "source": [
        "#Reverse the list\n",
        "myList.reverse()\n",
        "reversedList = myList\n",
        "print(reversedList)"
      ],
      "metadata": {
        "colab": {
          "base_uri": "https://localhost:8080/"
        },
        "id": "SBprcOSoJH_x",
        "outputId": "74ca15be-fe20-47d2-c11b-3e7e954d7eb5"
      },
      "execution_count": 4,
      "outputs": [
        {
          "output_type": "stream",
          "name": "stdout",
          "text": [
            "[40, 30, 8.1, True, 'apple', 30, 20, 10]\n"
          ]
        }
      ]
    },
    {
      "cell_type": "markdown",
      "source": [
        "#Dictionary"
      ],
      "metadata": {
        "id": "pn7vnnhrJTZg"
      }
    },
    {
      "cell_type": "markdown",
      "source": [
        "Q2. Create a dictionary with key values as 1, 2, 3 and the values as ‘data’,‘information’ and ‘text’:"
      ],
      "metadata": {
        "id": "8oiSuKM-JVWK"
      }
    },
    {
      "cell_type": "code",
      "source": [
        "#Create a dictionary\n",
        "my_dict = {1: 'data', 2: 'information', 3: 'text'}\n",
        "print(my_dict)"
      ],
      "metadata": {
        "colab": {
          "base_uri": "https://localhost:8080/"
        },
        "id": "LjOM1lSfJh5C",
        "outputId": "615c6ccd-ab34-453f-e541-6b4e4e803cba"
      },
      "execution_count": 25,
      "outputs": [
        {
          "output_type": "stream",
          "name": "stdout",
          "text": [
            "{1: 'data', 2: 'information', 3: 'text'}\n"
          ]
        }
      ]
    },
    {
      "cell_type": "markdown",
      "source": [
        "a) after that, eliminate the \"text\" value from the dictionary."
      ],
      "metadata": {
        "id": "x9MX4xMdJwXO"
      }
    },
    {
      "cell_type": "code",
      "source": [
        "#Delete the \"text\" value from the dictionary\n",
        "del my_dict[3]\n",
        "print(my_dict)"
      ],
      "metadata": {
        "colab": {
          "base_uri": "https://localhost:8080/"
        },
        "id": "58P793HRJ-4z",
        "outputId": "805c170a-6e92-4bc2-c069-00dae56feb49"
      },
      "execution_count": 26,
      "outputs": [
        {
          "output_type": "stream",
          "name": "stdout",
          "text": [
            "{1: 'data', 2: 'information'}\n"
          ]
        }
      ]
    },
    {
      "cell_type": "markdown",
      "source": [
        "b) add \"features\" in the dictionary."
      ],
      "metadata": {
        "id": "jQ1e-vyBK-nQ"
      }
    },
    {
      "cell_type": "code",
      "source": [
        "# Add an element in the dictionary\n",
        "my_dict[4] = 'features'\n",
        "print(my_dict)"
      ],
      "metadata": {
        "colab": {
          "base_uri": "https://localhost:8080/"
        },
        "id": "Yl9QjvYqLGcJ",
        "outputId": "542f8bfb-eb73-480d-bc1c-9876f10ed138"
      },
      "execution_count": 27,
      "outputs": [
        {
          "output_type": "stream",
          "name": "stdout",
          "text": [
            "{1: 'data', 2: 'information', 4: 'features'}\n"
          ]
        }
      ]
    },
    {
      "cell_type": "markdown",
      "source": [
        "c) Fetch the \"data\" element from the dictionary and display it in the output"
      ],
      "metadata": {
        "id": "cTd2krCSLYad"
      }
    },
    {
      "cell_type": "code",
      "source": [
        "# Fetch the \"data\" element from the dictionary\n",
        "my_dict = {1: 'data', 2: 'information', 3: 'text'}\n",
        "print(my_dict[1])\n"
      ],
      "metadata": {
        "colab": {
          "base_uri": "https://localhost:8080/"
        },
        "id": "6dHz6-nMMNBP",
        "outputId": "edc5ee8c-8967-495d-ef2c-b243a6375384"
      },
      "execution_count": 28,
      "outputs": [
        {
          "output_type": "stream",
          "name": "stdout",
          "text": [
            "data\n"
          ]
        }
      ]
    },
    {
      "cell_type": "markdown",
      "source": [
        "#Tuples"
      ],
      "metadata": {
        "id": "O0hHlC9TMfVv"
      }
    },
    {
      "cell_type": "markdown",
      "source": [
        "Q3. Create a tuple and add these elements 1, 2, 3, apple, mango in my_tuple."
      ],
      "metadata": {
        "id": "YCKQLffXMmi6"
      }
    },
    {
      "cell_type": "code",
      "source": [
        "# Create a tuple\n",
        "my_tuple =(1,2,3,\"apple\",\"mango\")\n",
        "print(my_tuple)\n"
      ],
      "metadata": {
        "colab": {
          "base_uri": "https://localhost:8080/"
        },
        "id": "H6u3z_xsMyNW",
        "outputId": "84b8eb25-5e83-4737-c4b6-84fa8f7e42fc"
      },
      "execution_count": 29,
      "outputs": [
        {
          "output_type": "stream",
          "name": "stdout",
          "text": [
            "(1, 2, 3, 'apple', 'mango')\n"
          ]
        }
      ]
    },
    {
      "cell_type": "markdown",
      "source": [
        "Q4. Create another tuple named numeric_tuple consisting of only integer values 10, 20, 30, 40, 50"
      ],
      "metadata": {
        "id": "mqkm08tvM_E1"
      }
    },
    {
      "cell_type": "code",
      "source": [
        "numeric_tuple = (10,20,30,40)\n",
        "print(numeric_tuple)"
      ],
      "metadata": {
        "colab": {
          "base_uri": "https://localhost:8080/"
        },
        "id": "pxqaP47xNVUS",
        "outputId": "786f4f15-5693-48f6-93ea-594a0c348cbb"
      },
      "execution_count": 30,
      "outputs": [
        {
          "output_type": "stream",
          "name": "stdout",
          "text": [
            "(10, 20, 30, 40)\n"
          ]
        }
      ]
    },
    {
      "cell_type": "markdown",
      "source": [
        "a. find the minimum value from the numeric_tuple"
      ],
      "metadata": {
        "id": "r6eEQPOQNblh"
      }
    },
    {
      "cell_type": "code",
      "source": [
        "# minimum value from the numeric tuple\n",
        "min_val = min(numeric_tuple)\n",
        "print(min_val)"
      ],
      "metadata": {
        "colab": {
          "base_uri": "https://localhost:8080/"
        },
        "id": "gqLfwV9uNj6n",
        "outputId": "42bcacb7-74cc-455a-d107-5f70853f68e1"
      },
      "execution_count": 31,
      "outputs": [
        {
          "output_type": "stream",
          "name": "stdout",
          "text": [
            "10\n"
          ]
        }
      ]
    },
    {
      "cell_type": "markdown",
      "source": [
        "b. concat my_tuple with numeric_tuple and store the result in r1"
      ],
      "metadata": {
        "id": "sAB33sFxN15_"
      }
    },
    {
      "cell_type": "code",
      "source": [
        "# Concatenation of two tuples\n",
        "r1 = my_tuple + numeric_tuple\n",
        "print(r1)"
      ],
      "metadata": {
        "colab": {
          "base_uri": "https://localhost:8080/"
        },
        "id": "QJ-QmL9aOBBZ",
        "outputId": "3d0096af-002e-4245-b1e9-b71a84a6ec1e"
      },
      "execution_count": 32,
      "outputs": [
        {
          "output_type": "stream",
          "name": "stdout",
          "text": [
            "(1, 2, 3, 'apple', 'mango', 10, 20, 30, 40)\n"
          ]
        }
      ]
    },
    {
      "cell_type": "markdown",
      "source": [
        "c. Duplicate the tuple named my_tuple 2 times and store that in \"new_dupli\""
      ],
      "metadata": {
        "id": "NlLaaSiNOK53"
      }
    },
    {
      "cell_type": "code",
      "source": [
        "# Duplicate the tuple 2 times\n",
        "new_dupli = my_tuple * 2\n",
        "\n",
        "# Store in new dictionary - new_dupli\n",
        "print(\"Duplicated tuple:\", new_dupli)"
      ],
      "metadata": {
        "colab": {
          "base_uri": "https://localhost:8080/"
        },
        "id": "8B1CJN1rOXJU",
        "outputId": "7b95e195-0fb0-4d25-f15d-0399c4a83a57"
      },
      "execution_count": 33,
      "outputs": [
        {
          "output_type": "stream",
          "name": "stdout",
          "text": [
            "Duplicated tuple: (1, 2, 3, 'apple', 'mango', 1, 2, 3, 'apple', 'mango')\n"
          ]
        }
      ]
    },
    {
      "cell_type": "markdown",
      "source": [
        "# Sets"
      ],
      "metadata": {
        "id": "NUkpUtU4O0xE"
      }
    },
    {
      "cell_type": "markdown",
      "source": [
        "Q5. Create 2 sets with the names set1 and set2, where set1 contains\n",
        "{1,2,3,4,5} and set2 contains {2,3,7,6,1}"
      ],
      "metadata": {
        "id": "EtTJDzY3O2ue"
      }
    },
    {
      "cell_type": "code",
      "source": [
        "# Create 2 sets\n",
        "set1 = {1, 2, 3}\n",
        "set2 = {3, 4, 5}\n",
        "\n",
        "print(set1)\n",
        "print(set2)"
      ],
      "metadata": {
        "colab": {
          "base_uri": "https://localhost:8080/"
        },
        "id": "ivepqnTRO8ci",
        "outputId": "f132362d-2102-4548-da61-3927accf299e"
      },
      "execution_count": 34,
      "outputs": [
        {
          "output_type": "stream",
          "name": "stdout",
          "text": [
            "{1, 2, 3}\n",
            "{3, 4, 5}\n"
          ]
        }
      ]
    },
    {
      "cell_type": "markdown",
      "source": [
        "Perform the following operations -\n",
        "\n",
        "a. set1 union set2\n",
        "\n",
        "b. set1 intersection set2\n",
        "\n",
        "c. set1 difference set2"
      ],
      "metadata": {
        "id": "1b4cL2JBPJN9"
      }
    },
    {
      "cell_type": "code",
      "source": [
        "# Union\n",
        "print(\"Union of set 1 and set 2 is :\", set1.union(set2))\n",
        "\n",
        "# intersection\n",
        "print(\"Intersection of set 1 and set 2 is:\", set1.intersection(set2))\n",
        "\n",
        "# difference\n",
        "print(\"Difference of set 1 and set 2 is:\", set1.difference(set2))"
      ],
      "metadata": {
        "colab": {
          "base_uri": "https://localhost:8080/"
        },
        "id": "dr-_Hjh4Pknx",
        "outputId": "ae86849e-3925-4ea6-c1ea-5f96ecd65600"
      },
      "execution_count": 35,
      "outputs": [
        {
          "output_type": "stream",
          "name": "stdout",
          "text": [
            "Union of set 1 and set 2 is : {1, 2, 3, 4, 5}\n",
            "Intersection of set 1 and set 2 is: {3}\n",
            "Difference of set 1 and set 2 is: {1, 2}\n"
          ]
        }
      ]
    }
  ]
}