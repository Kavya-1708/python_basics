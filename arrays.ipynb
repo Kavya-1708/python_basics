{
  "nbformat": 4,
  "nbformat_minor": 0,
  "metadata": {
    "colab": {
      "provenance": [],
      "authorship_tag": "ABX9TyM3XhK/1N521kQ2ICDysZau",
      "include_colab_link": true
    },
    "kernelspec": {
      "name": "python3",
      "display_name": "Python 3"
    },
    "language_info": {
      "name": "python"
    }
  },
  "cells": [
    {
      "cell_type": "markdown",
      "metadata": {
        "id": "view-in-github",
        "colab_type": "text"
      },
      "source": [
        "<a href=\"https://colab.research.google.com/github/Kavya-1708/python_basics/blob/main/arrays.ipynb\" target=\"_parent\"><img src=\"https://colab.research.google.com/assets/colab-badge.svg\" alt=\"Open In Colab\"/></a>"
      ]
    },
    {
      "cell_type": "markdown",
      "source": [
        "Q1. Create a 3*3 array with values ranging from 2 to 10."
      ],
      "metadata": {
        "id": "AYOrV30_RVq2"
      }
    },
    {
      "cell_type": "code",
      "execution_count": 1,
      "metadata": {
        "colab": {
          "base_uri": "https://localhost:8080/"
        },
        "id": "egNUX4kWROs0",
        "outputId": "b85d0205-0a2b-494f-dbf9-1a8b7fdc7329"
      },
      "outputs": [
        {
          "output_type": "stream",
          "name": "stdout",
          "text": [
            "3x3 Matrix:\n",
            "[[ 2  3  4]\n",
            " [ 5  6  7]\n",
            " [ 8  9 10]]\n"
          ]
        }
      ],
      "source": [
        "import numpy as np\n",
        "\n",
        "# Create a 3x3 matrix with values ranging from 2 to 10\n",
        "matrix = np.arange(2, 11).reshape(3, 3)\n",
        "\n",
        "# Display the matrix\n",
        "print(\"3x3 Matrix:\")\n",
        "print(matrix)"
      ]
    },
    {
      "cell_type": "markdown",
      "source": [
        "Q2. Create a NumPy array having user input values and convert the integer type to the float type of the elements of the array. For instance: Original array [1,2,3,4] Array converted to a float type : [1. 2. 3. 4.]"
      ],
      "metadata": {
        "id": "eGTxzEf5R3Yi"
      }
    },
    {
      "cell_type": "code",
      "source": [
        "import numpy as np\n",
        "\n",
        "# Take user input for the array elements\n",
        "user_input = input(\"Enter the elements of the array separated by spaces: \")\n",
        "\n",
        "# Convert the input string to a list of integers\n",
        "original_array = np.array([int(x) for x in user_input.split()])\n",
        "\n",
        "# Convert the integer array to float type\n",
        "float_array = original_array.astype(float)\n",
        "\n",
        "# Display the original and converted arrays\n",
        "print(\"Original array:\", original_array)\n",
        "print(\"Array converted to float type:\", float_array)"
      ],
      "metadata": {
        "colab": {
          "base_uri": "https://localhost:8080/"
        },
        "id": "ozys0KEKSgnv",
        "outputId": "75d9f1b6-e1a1-4777-9c4f-4e49c254c42d"
      },
      "execution_count": 2,
      "outputs": [
        {
          "output_type": "stream",
          "name": "stdout",
          "text": [
            "Enter the elements of the array separated by spaces: 1 2 3 4 \n",
            "Original array: [1 2 3 4]\n",
            "Array converted to float type: [1. 2. 3. 4.]\n"
          ]
        }
      ]
    },
    {
      "cell_type": "markdown",
      "source": [
        "Q3. Write a NumPy program to append values to the end of the array. For instance: Original array: [10,20,30]. After that, append values to the end of the array : [10 20 30 40 50 60 70 80 90]"
      ],
      "metadata": {
        "id": "d26KRxOcSt-R"
      }
    },
    {
      "cell_type": "code",
      "source": [
        "import numpy as np\n",
        "\n",
        "# Original array\n",
        "original_array = np.array([10, 20, 30])\n",
        "\n",
        "# Values to append\n",
        "values_to_append = [40, 50, 60, 70, 80, 90]\n",
        "\n",
        "# Append values to the array\n",
        "new_array = np.append(original_array, values_to_append)\n",
        "\n",
        "# Display the result\n",
        "print(\"Original array:\", original_array)\n",
        "print(\"Array after appending values:\", new_array)"
      ],
      "metadata": {
        "colab": {
          "base_uri": "https://localhost:8080/"
        },
        "id": "hybV5yJcSsdt",
        "outputId": "8d233733-8443-42af-fe3c-a6795b1732e5"
      },
      "execution_count": 3,
      "outputs": [
        {
          "output_type": "stream",
          "name": "stdout",
          "text": [
            "Original array: [10 20 30]\n",
            "Array after appending values: [10 20 30 40 50 60 70 80 90]\n"
          ]
        }
      ]
    },
    {
      "cell_type": "markdown",
      "source": [
        "Q4. Create two NumPy arrays and add the elements of both the arrays and store the result in sumArray."
      ],
      "metadata": {
        "id": "bUNfOgK9TXw0"
      }
    },
    {
      "cell_type": "code",
      "source": [
        "import numpy as np\n",
        "\n",
        "# Create two NumPy arrays\n",
        "array1 = np.array([1, 2, 3])\n",
        "array2 = np.array([4, 5, 6])\n",
        "\n",
        "# Add the elements of both arrays\n",
        "sumArray = np.add(array1, array2)\n",
        "\n",
        "# Display the result\n",
        "print(\"First Array:\", array1)\n",
        "print(\"Second Array:\", array2)\n",
        "print(\"Sum of Arrays:\", sumArray)"
      ],
      "metadata": {
        "colab": {
          "base_uri": "https://localhost:8080/"
        },
        "id": "dRg-cmT4Tlki",
        "outputId": "e5e6ffe1-7379-4056-f5a9-4153067506c9"
      },
      "execution_count": 4,
      "outputs": [
        {
          "output_type": "stream",
          "name": "stdout",
          "text": [
            "First Array: [1 2 3]\n",
            "Second Array: [4 5 6]\n",
            "Sum of Arrays: [5 7 9]\n"
          ]
        }
      ]
    },
    {
      "cell_type": "markdown",
      "source": [
        "Q5. Create a 3*3 array having values from 10-90(interval of 10) and store that in array1.\n",
        "\n",
        "Perform the following tasks -\n",
        "\n",
        "a. Extract the 1st row from the array.\n",
        "\n",
        "b. Extract the last element from the array."
      ],
      "metadata": {
        "id": "ja3VNQCETuXh"
      }
    },
    {
      "cell_type": "code",
      "source": [
        "import numpy as np\n",
        "\n",
        "# Create a 3x3 array with values ranging from 10 to 90 (interval of 10)\n",
        "array1 = np.arange(10, 100, 10).reshape(3, 3)\n",
        "\n",
        "# Perform the tasks\n",
        "# a. Extract the 1st row from the array\n",
        "first_row = array1[0, :]\n",
        "\n",
        "# b. Extract the last element from the array\n",
        "last_element = array1[-1, -1]\n",
        "\n",
        "# Display the results\n",
        "print(\"3x3 Array:\")\n",
        "print(array1)\n",
        "print(\"\\n1st Row:\", first_row)\n",
        "print(\"Last Element:\", last_element)"
      ],
      "metadata": {
        "colab": {
          "base_uri": "https://localhost:8080/"
        },
        "id": "w4BS0hHyUSqp",
        "outputId": "01a90b4d-24ed-4fa9-f1a4-f7a03c81d284"
      },
      "execution_count": 5,
      "outputs": [
        {
          "output_type": "stream",
          "name": "stdout",
          "text": [
            "3x3 Array:\n",
            "[[10 20 30]\n",
            " [40 50 60]\n",
            " [70 80 90]]\n",
            "\n",
            "1st Row: [10 20 30]\n",
            "Last Element: 90\n"
          ]
        }
      ]
    }
  ]
}